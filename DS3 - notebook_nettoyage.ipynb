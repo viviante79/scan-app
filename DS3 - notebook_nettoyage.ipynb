{
 "cells": [
  {
   "cell_type": "markdown",
   "id": "2351a815",
   "metadata": {},
   "source": [
    "# PROJET 3 : CONCEVEZ UNE APPLICATION DE SANTÉ PUBLIQUE (NETTOYAGE)"
   ]
  },
  {
   "cell_type": "markdown",
   "id": "86e919bf",
   "metadata": {},
   "source": [
    "## 0 - PRÉALABLES :"
   ]
  },
  {
   "cell_type": "markdown",
   "id": "c4e0c0f1",
   "metadata": {},
   "source": [
    "### A - Gestion des avertissements :"
   ]
  },
  {
   "cell_type": "code",
   "execution_count": 1,
   "id": "de67675e",
   "metadata": {},
   "outputs": [],
   "source": [
    "# Suppression des avertissements :\n",
    "import warnings\n",
    "warnings.filterwarnings('ignore')"
   ]
  },
  {
   "cell_type": "markdown",
   "id": "36e71a98",
   "metadata": {},
   "source": [
    "### B - Importation des librairies :"
   ]
  },
  {
   "cell_type": "code",
   "execution_count": 2,
   "id": "964182fc",
   "metadata": {},
   "outputs": [],
   "source": [
    "# Importation des librairies :\n",
    "import numpy as np\n",
    "import pandas as pd\n",
    "import matplotlib.pyplot as plt\n",
    "import seaborn as sns\n",
    "from datetime import datetime\n",
    "from scipy import stats"
   ]
  },
  {
   "cell_type": "markdown",
   "id": "649602de",
   "metadata": {},
   "source": [
    "### C - Importation du fichier :"
   ]
  },
  {
   "cell_type": "code",
   "execution_count": 3,
   "id": "751ce8ae",
   "metadata": {},
   "outputs": [],
   "source": [
    "# Importation du fichier :\n",
    "data = pd.read_csv(\"fr.openfoodfacts.org.products.csv\", sep=\"\\t\")"
   ]
  },
  {
   "cell_type": "markdown",
   "id": "506dc9bf",
   "metadata": {},
   "source": [
    "## I - NETTOYAGE DU FICHIER :"
   ]
  },
  {
   "cell_type": "markdown",
   "id": "a96a317a",
   "metadata": {},
   "source": [
    "### A) Aperçu du fichier :"
   ]
  },
  {
   "cell_type": "markdown",
   "id": "e86517cc",
   "metadata": {},
   "source": [
    "#### 1) Aperçu du tableau :"
   ]
  },
  {
   "cell_type": "code",
   "execution_count": 4,
   "id": "98a3504b",
   "metadata": {},
   "outputs": [
    {
     "data": {
      "text/html": [
       "<div>\n",
       "<style scoped>\n",
       "    .dataframe tbody tr th:only-of-type {\n",
       "        vertical-align: middle;\n",
       "    }\n",
       "\n",
       "    .dataframe tbody tr th {\n",
       "        vertical-align: top;\n",
       "    }\n",
       "\n",
       "    .dataframe thead th {\n",
       "        text-align: right;\n",
       "    }\n",
       "</style>\n",
       "<table border=\"1\" class=\"dataframe\">\n",
       "  <thead>\n",
       "    <tr style=\"text-align: right;\">\n",
       "      <th></th>\n",
       "      <th>code</th>\n",
       "      <th>url</th>\n",
       "      <th>creator</th>\n",
       "      <th>created_t</th>\n",
       "      <th>created_datetime</th>\n",
       "      <th>last_modified_t</th>\n",
       "      <th>last_modified_datetime</th>\n",
       "      <th>product_name</th>\n",
       "      <th>generic_name</th>\n",
       "      <th>quantity</th>\n",
       "      <th>...</th>\n",
       "      <th>ph_100g</th>\n",
       "      <th>fruits-vegetables-nuts_100g</th>\n",
       "      <th>collagen-meat-protein-ratio_100g</th>\n",
       "      <th>cocoa_100g</th>\n",
       "      <th>chlorophyl_100g</th>\n",
       "      <th>carbon-footprint_100g</th>\n",
       "      <th>nutrition-score-fr_100g</th>\n",
       "      <th>nutrition-score-uk_100g</th>\n",
       "      <th>glycemic-index_100g</th>\n",
       "      <th>water-hardness_100g</th>\n",
       "    </tr>\n",
       "  </thead>\n",
       "  <tbody>\n",
       "    <tr>\n",
       "      <th>0</th>\n",
       "      <td>3087</td>\n",
       "      <td>http://world-fr.openfoodfacts.org/produit/0000...</td>\n",
       "      <td>openfoodfacts-contributors</td>\n",
       "      <td>1474103866</td>\n",
       "      <td>2016-09-17T09:17:46Z</td>\n",
       "      <td>1474103893</td>\n",
       "      <td>2016-09-17T09:18:13Z</td>\n",
       "      <td>Farine de blé noir</td>\n",
       "      <td>NaN</td>\n",
       "      <td>1kg</td>\n",
       "      <td>...</td>\n",
       "      <td>NaN</td>\n",
       "      <td>NaN</td>\n",
       "      <td>NaN</td>\n",
       "      <td>NaN</td>\n",
       "      <td>NaN</td>\n",
       "      <td>NaN</td>\n",
       "      <td>NaN</td>\n",
       "      <td>NaN</td>\n",
       "      <td>NaN</td>\n",
       "      <td>NaN</td>\n",
       "    </tr>\n",
       "    <tr>\n",
       "      <th>1</th>\n",
       "      <td>4530</td>\n",
       "      <td>http://world-fr.openfoodfacts.org/produit/0000...</td>\n",
       "      <td>usda-ndb-import</td>\n",
       "      <td>1489069957</td>\n",
       "      <td>2017-03-09T14:32:37Z</td>\n",
       "      <td>1489069957</td>\n",
       "      <td>2017-03-09T14:32:37Z</td>\n",
       "      <td>Banana Chips Sweetened (Whole)</td>\n",
       "      <td>NaN</td>\n",
       "      <td>NaN</td>\n",
       "      <td>...</td>\n",
       "      <td>NaN</td>\n",
       "      <td>NaN</td>\n",
       "      <td>NaN</td>\n",
       "      <td>NaN</td>\n",
       "      <td>NaN</td>\n",
       "      <td>NaN</td>\n",
       "      <td>14.0</td>\n",
       "      <td>14.0</td>\n",
       "      <td>NaN</td>\n",
       "      <td>NaN</td>\n",
       "    </tr>\n",
       "  </tbody>\n",
       "</table>\n",
       "<p>2 rows × 162 columns</p>\n",
       "</div>"
      ],
      "text/plain": [
       "   code                                                url  \\\n",
       "0  3087  http://world-fr.openfoodfacts.org/produit/0000...   \n",
       "1  4530  http://world-fr.openfoodfacts.org/produit/0000...   \n",
       "\n",
       "                      creator   created_t      created_datetime  \\\n",
       "0  openfoodfacts-contributors  1474103866  2016-09-17T09:17:46Z   \n",
       "1             usda-ndb-import  1489069957  2017-03-09T14:32:37Z   \n",
       "\n",
       "  last_modified_t last_modified_datetime                    product_name  \\\n",
       "0      1474103893   2016-09-17T09:18:13Z              Farine de blé noir   \n",
       "1      1489069957   2017-03-09T14:32:37Z  Banana Chips Sweetened (Whole)   \n",
       "\n",
       "  generic_name quantity  ... ph_100g fruits-vegetables-nuts_100g  \\\n",
       "0          NaN      1kg  ...     NaN                         NaN   \n",
       "1          NaN      NaN  ...     NaN                         NaN   \n",
       "\n",
       "  collagen-meat-protein-ratio_100g cocoa_100g chlorophyl_100g  \\\n",
       "0                              NaN        NaN             NaN   \n",
       "1                              NaN        NaN             NaN   \n",
       "\n",
       "  carbon-footprint_100g nutrition-score-fr_100g nutrition-score-uk_100g  \\\n",
       "0                   NaN                     NaN                     NaN   \n",
       "1                   NaN                    14.0                    14.0   \n",
       "\n",
       "  glycemic-index_100g water-hardness_100g  \n",
       "0                 NaN                 NaN  \n",
       "1                 NaN                 NaN  \n",
       "\n",
       "[2 rows x 162 columns]"
      ]
     },
     "execution_count": 4,
     "metadata": {},
     "output_type": "execute_result"
    }
   ],
   "source": [
    "# Aperçu du tableau data :\n",
    "data.head(2)"
   ]
  },
  {
   "cell_type": "code",
   "execution_count": 5,
   "id": "f775639d",
   "metadata": {},
   "outputs": [
    {
     "data": {
      "text/plain": [
       "(320772, 162)"
      ]
     },
     "execution_count": 5,
     "metadata": {},
     "output_type": "execute_result"
    }
   ],
   "source": [
    "# Nombre de lignes et de colonnes :\n",
    "data.shape"
   ]
  },
  {
   "cell_type": "markdown",
   "id": "b14f7a89",
   "metadata": {},
   "source": [
    "#### 2) Aperçu des variables :"
   ]
  },
  {
   "cell_type": "code",
   "execution_count": 6,
   "id": "ac374c1c",
   "metadata": {},
   "outputs": [],
   "source": [
    "# Type de variables :\n",
    "# data.info(verbose=True)"
   ]
  },
  {
   "cell_type": "markdown",
   "id": "4d9db447",
   "metadata": {},
   "source": [
    "### B - Restriction sur les produits vendus en France :"
   ]
  },
  {
   "cell_type": "code",
   "execution_count": 7,
   "id": "6896a9a9",
   "metadata": {},
   "outputs": [],
   "source": [
    "# Restriction sur les produits vendus en France seulement :\n",
    "data_fr = data[data[\"countries\"].str.contains(r'(.fr|FR|Fr.)')==True]\n",
    "data_fr = data_fr.drop(columns=\"nutrition-score-uk_100g\")"
   ]
  },
  {
   "cell_type": "markdown",
   "id": "33efc1ec",
   "metadata": {},
   "source": [
    "### C - Traitement des valeurs manquantes et des doublons :"
   ]
  },
  {
   "cell_type": "markdown",
   "id": "bc2bedb8",
   "metadata": {},
   "source": [
    "#### 1 - Traitement des valeurs manquantes des colonnes :"
   ]
  },
  {
   "cell_type": "code",
   "execution_count": 8,
   "id": "e7030803",
   "metadata": {
    "scrolled": true
   },
   "outputs": [
    {
     "data": {
      "text/plain": [
       "<AxesSubplot:>"
      ]
     },
     "execution_count": 8,
     "metadata": {},
     "output_type": "execute_result"
    },
    {
     "data": {
      "image/png": "[encoded data removed]",
      "text/plain": [
       "<Figure size 1440x720 with 1 Axes>"
      ]
     },
     "metadata": {
      "needs_background": "light"
     },
     "output_type": "display_data"
    }
   ],
   "source": [
    "# Aperçu du volume d'informations manquantes sur data_fr :\n",
    "plt.figure(figsize=(20,10))\n",
    "sns.heatmap(data_fr.isna(),cbar=False, cmap=\"coolwarm\", center=0.25)"
   ]
  },
  {
   "cell_type": "code",
   "execution_count": 9,
   "id": "4f1e45a2",
   "metadata": {},
   "outputs": [],
   "source": [
    "# Définition du pourcentage de valeurs manquantes par colonne :\n",
    "nan_colonnes = data_fr.isna().sum(axis=0)/data_fr.shape[0]"
   ]
  },
  {
   "cell_type": "code",
   "execution_count": 10,
   "id": "84003e99",
   "metadata": {
    "scrolled": true
   },
   "outputs": [
    {
     "data": {
      "image/png": "[encoded data removed]",
      "text/plain": [
       "<Figure size 432x288 with 1 Axes>"
      ]
     },
     "metadata": {
      "needs_background": "light"
     },
     "output_type": "display_data"
    }
   ],
   "source": [
    "# Histogramme des valeurs manquantes :\n",
    "plt.figure()\n",
    "nan_colonnes.hist()\n",
    "plt.xticks(np.arange(0, 1, step=0.1))\n",
    "plt.title(\"Répartitions des valeurs manquantes en nombre de variables\")\n",
    "plt.show()"
   ]
  },
  {
   "cell_type": "code",
   "execution_count": 11,
   "id": "315ac107",
   "metadata": {},
   "outputs": [
    {
     "data": {
      "text/plain": [
       "96"
      ]
     },
     "execution_count": 11,
     "metadata": {},
     "output_type": "execute_result"
    }
   ],
   "source": [
    "# Nombre de variables comptant plus de 90% de valeurs manquantes :\n",
    "nan_colonnes[nan_colonnes>0.9].count()"
   ]
  },
  {
   "cell_type": "raw",
   "id": "9b86516e",
   "metadata": {},
   "source": [
    "Un grand nombre de variables (96) comportent plus de 90% de valeurs manquantes. À ces niveaux-là, il est difficile d'envisager de pouvoir les exploiter. Elles vont donc être supprimées."
   ]
  },
  {
   "cell_type": "code",
   "execution_count": 12,
   "id": "436d3f85",
   "metadata": {},
   "outputs": [
    {
     "data": {
      "image/png": "[encoded data removed]",
      "text/plain": [
       "<Figure size 432x288 with 1 Axes>"
      ]
     },
     "metadata": {
      "needs_background": "light"
     },
     "output_type": "display_data"
    }
   ],
   "source": [
    "# Histogramme des valeurs manquantes (2) :\n",
    "plt.figure()\n",
    "nan_colonnes[nan_colonnes<0.9].hist()\n",
    "plt.xticks(np.arange(0, 0.9, step=0.1))\n",
    "plt.title(\"Répartitions des valeurs manquantes en nombre de variables\")\n",
    "plt.show()"
   ]
  },
  {
   "cell_type": "code",
   "execution_count": 13,
   "id": "0a88f911",
   "metadata": {},
   "outputs": [
    {
     "data": {
      "text/plain": [
       "origins                     0.844133\n",
       "origins_tags                0.844224\n",
       "emb_codes                   0.765321\n",
       "emb_codes_tags              0.765321\n",
       "first_packaging_code_geo    0.811795\n",
       "cities_tags                 0.796917\n",
       "allergens                   0.767281\n",
       "traces                      0.805285\n",
       "traces_tags                 0.805295\n",
       "traces_fr                   0.805295\n",
       "dtype: float64"
      ]
     },
     "execution_count": 13,
     "metadata": {},
     "output_type": "execute_result"
    }
   ],
   "source": [
    "# Noms des variables comportant plus de 75% et moins de 90% de valeurs manquantes\n",
    "nan_colonnes[(nan_colonnes > 0.75) & (nan_colonnes < 0.9)]"
   ]
  },
  {
   "cell_type": "raw",
   "id": "ba2b6dd3",
   "metadata": {},
   "source": [
    "Dix variables comptent entre 75% et 90% de valeurs manquantes. Ce niveau de manque d'information est problématique, d'autant que le défaut concerne surtout les informations nutritionnelles. Il est donc possible de descendre le niveau de conservation à 75% de valeurs manquantes sans affaiblir significativement le nombre de variables utiles."
   ]
  },
  {
   "cell_type": "code",
   "execution_count": 14,
   "id": "bb84349c",
   "metadata": {},
   "outputs": [
    {
     "data": {
      "image/png": "[encoded data removed]",
      "text/plain": [
       "<Figure size 432x288 with 1 Axes>"
      ]
     },
     "metadata": {
      "needs_background": "light"
     },
     "output_type": "display_data"
    }
   ],
   "source": [
    "# Histogramme des valeurs manquantes (3) :\n",
    "plt.figure()\n",
    "nan_colonnes[nan_colonnes<0.75].hist()\n",
    "plt.xticks(np.arange(0, 0.75, step=0.1))\n",
    "plt.title(\"Répartitions des valeurs manquantes en nombre de variables\")\n",
    "plt.show()"
   ]
  },
  {
   "cell_type": "code",
   "execution_count": 15,
   "id": "8a43959b",
   "metadata": {},
   "outputs": [
    {
     "data": {
      "text/plain": [
       "manufacturing_places_tags    0.734832\n",
       "manufacturing_places         0.734791\n",
       "serving_size                 0.732100\n",
       "additives_tags               0.690520\n",
       "additives_fr                 0.690520\n",
       "labels                       0.643517\n",
       "labels_tags                  0.643131\n",
       "labels_fr                    0.643131\n",
       "stores                       0.613435\n",
       "generic_name                 0.610875\n",
       "purchase_places              0.559424\n",
       "fiber_100g                   0.535425\n",
       "carbohydrates_100g           0.520211\n",
       "fat_100g                     0.515823\n",
       "dtype: float64"
      ]
     },
     "execution_count": 15,
     "metadata": {},
     "output_type": "execute_result"
    }
   ],
   "source": [
    "# Noms des variables comportant plus de 58% et moins de 75% de valeurs manquantes\n",
    "nan_colonnes[(nan_colonnes > 0.50) & (nan_colonnes < 0.75)].sort_values(ascending=False)"
   ]
  },
  {
   "cell_type": "raw",
   "id": "3b5129a0",
   "metadata": {},
   "source": [
    "Si l'on descendait à un niveau d'exigence de moins 50% de valeurs manquantes, alors il faudrait supprimer 14 variables supplémentaires. Le problème est que l'on perdrait trois variables nutritionnelles importantes (fibres, glucides, et lipides). Il semble préférable donc de s'arrêter à un niveau de 54%."
   ]
  },
  {
   "cell_type": "code",
   "execution_count": 16,
   "id": "067975f8",
   "metadata": {},
   "outputs": [],
   "source": [
    "# Suppression des colonnes comptant plus de 54% de valeurs manquantes :\n",
    "data_fr_clean = data_fr[data_fr.columns[data_fr.isna().sum()/data_fr.shape[0] < 0.54]]"
   ]
  },
  {
   "cell_type": "markdown",
   "id": "9c85d5dd",
   "metadata": {},
   "source": [
    "#### 2) Traitement des colonnes en doublons :"
   ]
  },
  {
   "cell_type": "markdown",
   "id": "590fbe13",
   "metadata": {},
   "source": [
    "##### \"created_datetime\" et \"created_t\" :"
   ]
  },
  {
   "cell_type": "code",
   "execution_count": null,
   "id": "e7d5ef5b",
   "metadata": {},
   "outputs": [],
   "source": [
    "# Comparaison visuelle des variables \"created_datetime\" et \"created_t\" : \n",
    "create_compare = data_fr_clean[[\"created_datetime\",\"created_t\"]]\n",
    "create_compare.sort_values(\"created_datetime\").head()"
   ]
  },
  {
   "cell_type": "raw",
   "id": "bb17221c",
   "metadata": {},
   "source": [
    "Les deux variables donnent la même information : date d'ajout du produit dans le jeu de données. Le premier la donne sous forme de date (mal typée) et la seconde sous forme de timestamp. On peut donc supprimer \"created_t\" sans nuire à la qualité du jeu de données."
   ]
  },
  {
   "cell_type": "markdown",
   "id": "a1eab86c",
   "metadata": {},
   "source": [
    "##### \"last_modified_t\" et \"last_modified_datetime\" :"
   ]
  },
  {
   "cell_type": "code",
   "execution_count": null,
   "id": "5fa3c0a9",
   "metadata": {},
   "outputs": [],
   "source": [
    "# Comparaison visuelle des variables \"created_datetime\" et \"created_t\" : \n",
    "last_compare = data_fr_clean[[\"last_modified_t\",\"last_modified_datetime\"]]\n",
    "last_compare.sort_values(\"last_modified_datetime\").head()"
   ]
  },
  {
   "cell_type": "raw",
   "id": "9d825941",
   "metadata": {},
   "source": [
    "Cas identique au précédent. Cette fois, et afin de varier les méthodes de traitement, c'est la variable timestamp qui va être conservée : \"last_modified\" "
   ]
  },
  {
   "cell_type": "markdown",
   "id": "2d3d4e8c",
   "metadata": {},
   "source": [
    "##### \"packaging\" et \"packaging_tags\" :"
   ]
  },
  {
   "cell_type": "code",
   "execution_count": null,
   "id": "087fab4e",
   "metadata": {},
   "outputs": [],
   "source": [
    "# Comparaison visuelle des variables \"packaging\" et \"packaging_tags\" : \n",
    "packaging_compare = data_fr_clean[[\"packaging\",\"packaging_tags\"]]\n",
    "packaging_compare.sort_values(\"packaging\").head()"
   ]
  },
  {
   "cell_type": "raw",
   "id": "641f97b1",
   "metadata": {},
   "source": [
    "Les deux variables donnent des informations parfaitement identiques sous des termes légèrement différents. La colonne \"packaging_tags\" peut donc être supprimée sans nuire au jeu de données."
   ]
  },
  {
   "cell_type": "markdown",
   "id": "0114faf1",
   "metadata": {},
   "source": [
    "##### \"brands\" et \"brands_tags\" :"
   ]
  },
  {
   "cell_type": "code",
   "execution_count": null,
   "id": "58f1f614",
   "metadata": {},
   "outputs": [],
   "source": [
    "# Comparaison visuelle des variables \"brands\" et \"brands_tags\" : \n",
    "brands_compare = data_fr_clean[[\"brands\",\"brands_tags\"]]\n",
    "brands_compare.sort_values(\"brands\").head()"
   ]
  },
  {
   "cell_type": "raw",
   "id": "d7b139f7",
   "metadata": {},
   "source": [
    "Les deux variables donnent des informations parfaitement identiques sous des termes légèrement différents. La colonne \"brands_tags\" peut donc être supprimée sans nuire au jeu de données d'autant qu'elle contient 4 données manquantes de plus que la colonne \"brands\"."
   ]
  },
  {
   "cell_type": "markdown",
   "id": "72942dc6",
   "metadata": {},
   "source": [
    "##### \"categories\", \"categories_tags\" et \"categories_fr\" :"
   ]
  },
  {
   "cell_type": "code",
   "execution_count": null,
   "id": "790e9c10",
   "metadata": {},
   "outputs": [],
   "source": [
    "# Comparaison visuelle des variables \"categories\", \"categories_tags\" et \"categories_fr\" : \n",
    "categories_compare = data_fr_clean[[\"categories\",\"categories_tags\",\"categories_fr\"]]\n",
    "categories_compare.sort_values(\"categories\").head()"
   ]
  },
  {
   "cell_type": "raw",
   "id": "3df60286",
   "metadata": {},
   "source": [
    "Les trois variables donnent des informations parfaitement identiques sous des termes légèrement différents. Les colonnes \"categories_tags\" et \"categories_fr\" peuvent donc être supprimées sans nuire au jeu de données."
   ]
  },
  {
   "cell_type": "markdown",
   "id": "2f417674",
   "metadata": {},
   "source": [
    "##### \"countries\", \"countries_tags\" et \"countries_fr\" :"
   ]
  },
  {
   "cell_type": "code",
   "execution_count": null,
   "id": "2c731136",
   "metadata": {},
   "outputs": [],
   "source": [
    "# Comparaison visuelle des variables \"countries\", \"countries_tags\" et \"countries_fr\" : \n",
    "countries_compare = data_fr_clean[[\"countries\",\"countries_tags\",\"countries_fr\"]]\n",
    "countries_compare.sort_values(\"countries\").head()"
   ]
  },
  {
   "cell_type": "raw",
   "id": "5d179772",
   "metadata": {},
   "source": [
    "Les trois variables donnent des informations parfaitement identiques sous des termes légèrement différents. Les colonnes \"countries_tags\" et \"countries\" peuvent donc être supprimées sans nuire au jeu de données, la colonne \"countries_fr\" ayant l'avantage par rapport à \"categories\" de ne pas présenter d'erreurs de formatage."
   ]
  },
  {
   "cell_type": "markdown",
   "id": "30ed19b9",
   "metadata": {},
   "source": [
    "##### \"additives\" et \"additives_n\" :"
   ]
  },
  {
   "cell_type": "code",
   "execution_count": null,
   "id": "77a6e8ee",
   "metadata": {},
   "outputs": [],
   "source": [
    "# Comparaison visuelle des variables \"additives\" et \"additives_n\" : \n",
    "additives_compare = data_fr_clean[[\"additives\", \"additives_n\"]]\n",
    "sns.heatmap(additives_compare.isna())"
   ]
  },
  {
   "cell_type": "raw",
   "id": "8eebf5b6",
   "metadata": {},
   "source": [
    "La variable \"additive\" liste les noms des additifs utilisés. La variable \"additive_n\" est une variable binaire qui indique si oui ou non des additifs sont présents. Cette dernière n'apporte donc aucune information nouvelle comme le confirme la heatmap (si des additifs sont mentionnés, c'est bien qu'il y en a). Par ailleurs, cette seconde variable comporte 14 valeurs manquantes de plus que la première. On peut donc supprimer la colonne \"additives_n\" sans nuire au jeu de données."
   ]
  },
  {
   "cell_type": "markdown",
   "id": "6d69e41d",
   "metadata": {},
   "source": [
    "##### \"ingredients_from_palm_oil_n\" et \"ingredients_that_may_be_from_palm_oil_n\" :"
   ]
  },
  {
   "cell_type": "code",
   "execution_count": null,
   "id": "54b10c1c",
   "metadata": {},
   "outputs": [],
   "source": [
    "# Comparaison visuelle des variables \"ingredients_from_palm_oil_n\" et \"ingredients_that_may_be_from_palm_oil_n\" : \n",
    "palm_compare = data_fr_clean[[\"ingredients_from_palm_oil_n\",\"ingredients_that_may_be_from_palm_oil_n\"]]\n",
    "palm_compare.sort_values(\"ingredients_from_palm_oil_n\").head()"
   ]
  },
  {
   "cell_type": "raw",
   "id": "122c8cdc",
   "metadata": {},
   "source": [
    "Ces deux variables donnent des informations qui, quoiqu'étant de même nature, sont tout de même différentes. Les deux seront donc conservées."
   ]
  },
  {
   "cell_type": "markdown",
   "id": "9e437cc0",
   "metadata": {},
   "source": [
    "##### \"pnns_groups_1\" et \"pnns_groups_2\" :"
   ]
  },
  {
   "cell_type": "code",
   "execution_count": null,
   "id": "b7cb0969",
   "metadata": {},
   "outputs": [],
   "source": [
    "# Comparaison visuelle des variables \"pnns_groups_1\" et \"pnns_groups_2\" : \n",
    "pnns_compare = data_fr_clean[[\"pnns_groups_1\",\"pnns_groups_2\"]]\n",
    "pnns_compare.sort_values(\"pnns_groups_1\").head()"
   ]
  },
  {
   "cell_type": "raw",
   "id": "6ae7b1ea",
   "metadata": {},
   "source": [
    "Ces deux variables donnent des informations qui, quoiqu'étant de même nature, ont des niveaux de précision différents. Les deux seront donc conservées."
   ]
  },
  {
   "cell_type": "markdown",
   "id": "b4d02770",
   "metadata": {},
   "source": [
    "##### \"states\", \"states_tags\" et \"states_fr\" :"
   ]
  },
  {
   "cell_type": "code",
   "execution_count": null,
   "id": "1c04c392",
   "metadata": {},
   "outputs": [],
   "source": [
    "# Comparaison visuelle des variables \"states\", \"states_tags\" et \"states_fr\" : \n",
    "states_compare = data_fr_clean[[\"states\",\"states_tags\",\"states_fr\"]]\n",
    "states_compare.sort_values(\"states\").head()"
   ]
  },
  {
   "cell_type": "raw",
   "id": "0c960264",
   "metadata": {},
   "source": [
    "Les trois variables donnent des informations parfaitement identiques sous des termes légèrement différents. Comme pour les trois variables \"countries\", c'est la colonne \"states_fr\" qui sera conservée."
   ]
  },
  {
   "cell_type": "markdown",
   "id": "549c174f",
   "metadata": {},
   "source": [
    "##### \"main_category\" et \"main_category_fr\" :"
   ]
  },
  {
   "cell_type": "code",
   "execution_count": null,
   "id": "a7e943f0",
   "metadata": {},
   "outputs": [],
   "source": [
    "# Comparaison visuelle des variables \"main_category\" et \"main_category_fr\" : \n",
    "main_cat_compare = data_fr_clean[[\"main_category\",\"main_category_fr\",\"categories\"]]\n",
    "main_cat_compare.sort_values(\"main_category\").head()"
   ]
  },
  {
   "cell_type": "raw",
   "id": "ba6f0454",
   "metadata": {},
   "source": [
    "Les variables \"main_category\" et \"main_category_fr\" donnent exactement la même information. En revanche, ils donnent une information plus générale que la variable \"categories\" (conservée en amont). On peut donc conserver \"main_category_fr\"."
   ]
  },
  {
   "cell_type": "code",
   "execution_count": null,
   "id": "fe05eecd",
   "metadata": {},
   "outputs": [],
   "source": [
    "# Suppression des tableaux de comparaison :\n",
    "del(create_compare,last_compare,packaging_compare,brands_compare,categories_compare,countries_compare,additives_compare,palm_compare,pnns_compare,states_compare,main_cat_compare)"
   ]
  },
  {
   "cell_type": "code",
   "execution_count": null,
   "id": "e036bd7c",
   "metadata": {},
   "outputs": [],
   "source": [
    "# Suppression des colonnes qui doublonnent avec d'autres :\n",
    "data_fr_clean.drop(columns=\"packaging_tags\", inplace=True)\n",
    "data_fr_clean.drop(columns=\"brands_tags\", inplace=True)\n",
    "data_fr_clean.drop(columns=\"created_datetime\", inplace=True)\n",
    "data_fr_clean.drop(columns=\"last_modified_t\", inplace=True)\n",
    "data_fr_clean.drop(columns=\"categories_tags\", inplace=True)\n",
    "data_fr_clean.drop(columns=\"categories_fr\", inplace=True)\n",
    "data_fr_clean.drop(columns=\"countries\", inplace=True)\n",
    "data_fr_clean.drop(columns=\"countries_tags\", inplace=True)\n",
    "data_fr_clean.drop(columns=\"additives_n\", inplace=True)\n",
    "data_fr_clean.drop(columns=\"states\", inplace=True)\n",
    "data_fr_clean.drop(columns=\"states_tags\", inplace=True)\n",
    "data_fr_clean.drop(columns=\"main_category\", inplace=True)"
   ]
  },
  {
   "cell_type": "markdown",
   "id": "7ad10a98",
   "metadata": {},
   "source": [
    "#### 2 - Traitement valeurs manquantes des lignes :"
   ]
  },
  {
   "cell_type": "code",
   "execution_count": null,
   "id": "1ea5acc2",
   "metadata": {},
   "outputs": [],
   "source": [
    "# Aperçu du volume d'informations manquantes sans les colonnes qui en comportent plus de 54% :\n",
    "plt.figure(figsize=(20,10))\n",
    "sns.heatmap(data_fr_clean.isna(),cbar=False, cmap=\"coolwarm\", center=0.25)"
   ]
  },
  {
   "cell_type": "code",
   "execution_count": null,
   "id": "dd81f818",
   "metadata": {},
   "outputs": [],
   "source": [
    "# Définition du pourcentage de valeurs manquantes par ligne :\n",
    "nan_raws = data_fr_clean.isna().sum(axis=1)/data_fr_clean.shape[1]"
   ]
  },
  {
   "cell_type": "code",
   "execution_count": null,
   "id": "473b9851",
   "metadata": {},
   "outputs": [],
   "source": [
    "# Histogramme des valeurs manquantes :\n",
    "plt.figure()\n",
    "nan_raws.hist()\n",
    "plt.title(\"Répartitions des valeurs manquantes en nombre de lignes (produits)\")\n",
    "plt.show()"
   ]
  },
  {
   "cell_type": "code",
   "execution_count": null,
   "id": "27eba717",
   "metadata": {},
   "outputs": [],
   "source": [
    "# Nombre de produit comportant plus de 69% de valeurs manquantes :\n",
    "nan_raws[nan_raws > 0.69].count()"
   ]
  },
  {
   "cell_type": "code",
   "execution_count": null,
   "id": "8d5e702d",
   "metadata": {},
   "outputs": [],
   "source": [
    "# Nombre de produit comportant plus de 68% de valeurs manquantes :\n",
    "nan_raws[nan_raws > 0.68].count()"
   ]
  },
  {
   "cell_type": "code",
   "execution_count": null,
   "id": "edabc16b",
   "metadata": {},
   "outputs": [],
   "source": [
    "# Nombre de produit comportant plus de 44% de valeurs manquantes :\n",
    "nan_raws[nan_raws > 0.44].count()"
   ]
  },
  {
   "cell_type": "code",
   "execution_count": null,
   "id": "74d21358",
   "metadata": {},
   "outputs": [],
   "source": [
    "# Nombre de produit comportant plus de 43% de valeurs manquantes :\n",
    "nan_raws[nan_raws > 0.43].count()"
   ]
  },
  {
   "cell_type": "code",
   "execution_count": null,
   "id": "d9ce43b8",
   "metadata": {},
   "outputs": [],
   "source": [
    "# Quelles variables sont concernées pour les produits contenant beaucoup de manques (à 0,44) :\n",
    "plt.figure(figsize=(20,10))\n",
    "sns.heatmap(data_fr_clean[data_fr_clean.isna().sum(axis=1)/data_fr_clean.shape[1]>0.44].isna(),cbar=False, cmap=\"coolwarm\", center=0.25)"
   ]
  },
  {
   "cell_type": "code",
   "execution_count": null,
   "id": "b94223fd",
   "metadata": {},
   "outputs": [],
   "source": [
    "# Quelles variables sont concernées pour les produits contenant beaucoup de manques (à 0,44) :\n",
    "data_fr_clean[data_fr_clean.isna().sum(axis=1)/data_fr_clean.shape[1]>0.44].isnull().sum()"
   ]
  },
  {
   "cell_type": "raw",
   "id": "7c345b6a",
   "metadata": {},
   "source": [
    "En observant l'histogramme, on remarque une \"grosse marche\" en dessous de 44% de valeurs manquantes.\n",
    "\n",
    "En abaissant le niveau d'acceptabilité de nos produits 44% maximum de valeurs manquantes, on se sépare tout de même de 24329 produits. Cependant, on remarque que les informations manquantes de ces derniers concernent essentiellement des valeurs nutritionnelles utiles.\n",
    "\n",
    "Aussi, on peut considérer que supprimer ces lignes ne nuit pas significativement au jeu de données."
   ]
  },
  {
   "cell_type": "code",
   "execution_count": null,
   "id": "31dceeac",
   "metadata": {},
   "outputs": [],
   "source": [
    "# Suppression des lignes comptant plus de 44% de valeurs manquantes :\n",
    "data_fr_clean = data_fr_clean[data_fr_clean.isna().sum(axis=1)/data_fr_clean.shape[1] < 0.44]"
   ]
  },
  {
   "cell_type": "markdown",
   "id": "1cd7b10a",
   "metadata": {},
   "source": [
    "#### 3) Traitement des doublons :"
   ]
  },
  {
   "cell_type": "code",
   "execution_count": null,
   "id": "7981008c",
   "metadata": {},
   "outputs": [],
   "source": [
    "# Affichage des doublons :\n",
    "data_fr_clean.loc[data_fr_clean[\"code\"].duplicated(keep=False)]"
   ]
  },
  {
   "cell_type": "raw",
   "id": "47273405",
   "metadata": {},
   "source": [
    "Deux des produits présentent le même code (11778). On remarque qu'ils ont été ajoutés par deux personnes différentes (gildubs et beniben).\n",
    "\n",
    "Ils ont deux noms de produits différents, quoique similaires (\"Stem Ginger Cookies\" et \"All Butter Reduced Fat Stem Ginger Cookies\"). Or, en observant les données nutritionnelles, on s'aperçoit que le deuxième produit n'est en aucune façon une version allégée du premier.\n",
    "\n",
    "Conformément au code produit, ces deux entrées sont identiques et ont doublonné certainement du fait que deux contributeurs différents ont indiqué deux noms de produit différents."
   ]
  },
  {
   "cell_type": "code",
   "execution_count": null,
   "id": "90aeb9cb",
   "metadata": {},
   "outputs": [],
   "source": [
    "# Suppression des doublons avec conservation de la version la mieux renseignée :\n",
    "data_fr_clean[\"nb_nan\"] = data_fr_clean.isna().sum(axis=1)\n",
    "data_fr_clean = data_fr_clean.sort_values(\"nb_nan\")\n",
    "data_fr_clean = data_fr_clean.drop_duplicates(\"code\", keep=\"first\")\n",
    "data_fr_clean = data_fr_clean.drop(\"nb_nan\", axis=1)\n",
    "data_fr_clean = data_fr_clean.sort_index()"
   ]
  },
  {
   "cell_type": "code",
   "execution_count": null,
   "id": "ed1d1b45",
   "metadata": {
    "scrolled": false
   },
   "outputs": [],
   "source": [
    "# Aperçu du volume d'informations manquantes après le nettoyage des colonnes et des doublons :\n",
    "plt.figure(figsize=(20,10))\n",
    "sns.heatmap(data_fr_clean.isna(),cbar=False, cmap=\"coolwarm\", center=0.25)"
   ]
  },
  {
   "cell_type": "markdown",
   "id": "7c589d1f",
   "metadata": {},
   "source": [
    "#### 4) Suppression des anomalies repérées durant l'exploration :"
   ]
  },
  {
   "cell_type": "code",
   "execution_count": null,
   "id": "d9bf1b35",
   "metadata": {},
   "outputs": [],
   "source": [
    "# Anomalies à supprimer (dvd Harry Potter, cordes de guitare, lingettes, eau aux propriétés suspectes...)\n",
    "to_drop = (\"7340055304214\",\"5051889553625\",\"698502500571\",\"6091035082004\",\"1489940184\",\"883929140886\",\"3286011051744\")"
   ]
  },
  {
   "cell_type": "code",
   "execution_count": null,
   "id": "b199daf7",
   "metadata": {},
   "outputs": [],
   "source": [
    "# Suppression des anomalies repérées :\n",
    "data_fr_clean = data_fr_clean[~data_fr_clean[\"code\"].isin(to_drop)]"
   ]
  },
  {
   "cell_type": "markdown",
   "id": "6f938372",
   "metadata": {},
   "source": [
    "### D - Traitement des variables :"
   ]
  },
  {
   "cell_type": "markdown",
   "id": "b20b0563",
   "metadata": {},
   "source": [
    "####  1) \"code\" :"
   ]
  },
  {
   "cell_type": "code",
   "execution_count": null,
   "id": "ca9163a8",
   "metadata": {
    "scrolled": false
   },
   "outputs": [],
   "source": [
    "# Nombre de chiffres constituant le code barre :\n",
    "data_fr_clean[\"nb_chiffres_code_barres\"] = data_fr_clean[\"code\"].astype(str)\n",
    "data_fr_clean[\"nb_chiffres_code_barres\"] = data_fr_clean[\"nb_chiffres_code_barres\"].str.len()\n",
    "data_fr_clean.groupby(\"nb_chiffres_code_barres\").count()"
   ]
  },
  {
   "cell_type": "raw",
   "id": "97aeefe0",
   "metadata": {},
   "source": [
    "La variable \"code\", bien que constituée de chiffres, est une variable qualitative nominale : le typage objet est donc cohérent. \n",
    "\n",
    "La EAN (European Article Number) reconnaît deux types de code barre :\n",
    "- 8 chiffres (EAN 8)\n",
    "- 13 chiffres (EAN 13)\n",
    "\n",
    "À noter que les deux derniers chiffres de l'EAN13 constituent une clé de contrôle qui peut être calculée à partir des 11 autres chiffres. Ainsi, il est envisageable que les 554 codes soient des EAN 13 dont il manque simplement la clé. Cependant, rien ne permet de l'affirmer à coup sûr ; aussi, et compte tenu de leur relatif faible nombre, il semble préférable de les supprimer.\n",
    "\n",
    "S'il n'est pas possible d'identifier le produit en scannant le code-barre, l'application ne fonctionnera pas. On ne peut donc que supprimer les 1261 produits dont le code-barre ne correspond pas à la normalisation de l'EAN."
   ]
  },
  {
   "cell_type": "code",
   "execution_count": null,
   "id": "4500fff7",
   "metadata": {},
   "outputs": [],
   "source": [
    "# Suppression des produits dont le code barre est erroné : :\n",
    "EAN = (8,13)\n",
    "data_fr_clean = data_fr_clean[(data_fr_clean[\"nb_chiffres_code_barres\"]==8) | (data_fr_clean[\"nb_chiffres_code_barres\"]== 13)]\n",
    "data_fr_clean = data_fr_clean.drop(columns=\"nb_chiffres_code_barres\")"
   ]
  },
  {
   "cell_type": "code",
   "execution_count": null,
   "id": "36b1e70f",
   "metadata": {},
   "outputs": [],
   "source": [
    "# Changement du nom de la variable :\n",
    "data_fr_clean.rename(columns={\"code\":\"code_barres\"}, inplace=True)"
   ]
  },
  {
   "cell_type": "markdown",
   "id": "2b2a9166",
   "metadata": {},
   "source": [
    "#### 2) \"url\" :"
   ]
  },
  {
   "cell_type": "raw",
   "id": "a05c4e2a",
   "metadata": {},
   "source": [
    "Cette variable est une adresse qui mène au site internet du produit. A priori, pas de problèmes au sein de cette variable, mais il est difficile d'en être certain à 100% sauf à cliquer sur chacunes de ces adresses !!!"
   ]
  },
  {
   "cell_type": "code",
   "execution_count": null,
   "id": "79c1e815",
   "metadata": {},
   "outputs": [],
   "source": [
    "# Changement du nom de la variable :\n",
    "data_fr_clean.rename(columns={\"url\":\"url_produit\"}, inplace=True)"
   ]
  },
  {
   "cell_type": "markdown",
   "id": "c638199f",
   "metadata": {},
   "source": [
    "#### 3) \"creator\" :"
   ]
  },
  {
   "cell_type": "raw",
   "id": "87ffa97d",
   "metadata": {},
   "source": [
    "Cette variable qui indique le surnom de la personne qui a entré le produit dans le jeu de donnée ne donne aucune information sur le produit en tant que tel. On peut donc la supprimer sans nuire au jeu de données."
   ]
  },
  {
   "cell_type": "code",
   "execution_count": null,
   "id": "25e243ea",
   "metadata": {},
   "outputs": [],
   "source": [
    "# Suppression de la colonne \"creator\" :\n",
    "data_fr_clean = data_fr_clean.drop(columns=\"creator\")"
   ]
  },
  {
   "cell_type": "markdown",
   "id": "f9d1e72b",
   "metadata": {},
   "source": [
    "#### 3) \"created_t\" :"
   ]
  },
  {
   "cell_type": "markdown",
   "id": "baa3cddf",
   "metadata": {},
   "source": [
    "Cette variable correspond à la date d'entrée du produit dans le jeu de données. Il est en format UNIX timestamp et de type objet. Il faut donc le transformer et le typer en date."
   ]
  },
  {
   "cell_type": "code",
   "execution_count": null,
   "id": "f402197a",
   "metadata": {},
   "outputs": [],
   "source": [
    "# Typage de \"created_t\" :\n",
    "data_fr_clean[\"created_t\"] = data_fr_clean[\"created_t\"].astype(float)\n",
    "data_fr_clean[\"created_t\"] = [datetime.fromtimestamp(x) for x in data_fr_clean[\"created_t\"]]"
   ]
  },
  {
   "cell_type": "code",
   "execution_count": null,
   "id": "aaca2aab",
   "metadata": {},
   "outputs": [],
   "source": [
    "# Changement du nom de la variable :\n",
    "data_fr_clean.rename(columns={\"created_t\":\"date_enregistrement\"}, inplace=True)"
   ]
  },
  {
   "cell_type": "markdown",
   "id": "f94ec5c0",
   "metadata": {},
   "source": [
    "#### 4) \"last_modified_datetime\" :"
   ]
  },
  {
   "cell_type": "markdown",
   "id": "c495d282",
   "metadata": {},
   "source": [
    "Même cas que précédemment. Pour varier la procédure, c'est cette fois la variable last_modified_datetime, qui est une variable date mal formatée qui va être transformée et conservée."
   ]
  },
  {
   "cell_type": "code",
   "execution_count": null,
   "id": "f5747b2d",
   "metadata": {},
   "outputs": [],
   "source": [
    "# Conversion des colonnes de data à un format de date :\n",
    "data_fr_clean[\"last_modified_datetime\"]= pd.to_datetime(data_fr_clean[\"last_modified_datetime\"]).dt.tz_localize(None)"
   ]
  },
  {
   "cell_type": "code",
   "execution_count": null,
   "id": "fb06c223",
   "metadata": {},
   "outputs": [],
   "source": [
    "# Changement du nom de la variable :\n",
    "data_fr_clean.rename(columns={\"last_modified_datetime\":\"date_derniere_modification\"}, inplace=True)"
   ]
  },
  {
   "cell_type": "markdown",
   "id": "b6be1957",
   "metadata": {},
   "source": [
    "#### 5) \"product_name\" :"
   ]
  },
  {
   "cell_type": "raw",
   "id": "fb637179",
   "metadata": {},
   "source": [
    "Cette variable contient des doublons, mais qui correspondent à des conditionnements différents dotés de codes-barre différents."
   ]
  },
  {
   "cell_type": "code",
   "execution_count": null,
   "id": "d40fc20c",
   "metadata": {},
   "outputs": [],
   "source": [
    "# Changement du nom de la variable :\n",
    "data_fr_clean.rename(columns={\"product_name\":\"nom_produit\"}, inplace=True)"
   ]
  },
  {
   "cell_type": "markdown",
   "id": "714df7f1",
   "metadata": {},
   "source": [
    "#### 6) \"quantity\" :"
   ]
  },
  {
   "cell_type": "raw",
   "id": "28325dc1",
   "metadata": {},
   "source": [
    "Plusieurs problème dans cette variable :\n",
    "- Cette variable numérique n'est pas typée\n",
    "- Ses unités ne sont pas les mêmes.\n",
    "\n",
    "Compte tenu de la difficulté de conversion (passer unités de liquides en unités de poids implique d'utiliser des rapports unique selons les produits) et du fait que cette variable n'apporte que peu de valeur directe (ce n'est pas une information nutritive) ni indirecte (les informations nutritives sont déjà indiquées pour 100g). Il est décidé de laisser cette variable ainsi. "
   ]
  },
  {
   "cell_type": "code",
   "execution_count": null,
   "id": "c83b9288",
   "metadata": {},
   "outputs": [],
   "source": [
    "# Changement du nom de la variable :\n",
    "data_fr_clean.rename(columns={\"quantity\":\"quantite\"}, inplace=True)"
   ]
  },
  {
   "cell_type": "markdown",
   "id": "fea58181",
   "metadata": {},
   "source": [
    "#### 7) \"packaging\" :"
   ]
  },
  {
   "cell_type": "raw",
   "id": "f4397c5d",
   "metadata": {},
   "source": [
    "Beaucoup d'erreurs de formatage, généralement dues aux langues utilisées (\"plastique\" et \"plastic\"). Il serait long de corriger cette variable (10516 valeurs uniques) et surtout, peu utile. L'intérêt de cette variable est donc davantage dans l'information complémentaire que dans le traitement de ses données."
   ]
  },
  {
   "cell_type": "code",
   "execution_count": null,
   "id": "4fe8dbd9",
   "metadata": {},
   "outputs": [],
   "source": [
    "# Changement du nom de la variable :\n",
    "data_fr_clean.rename(columns={\"packaging\":\"emballage\"}, inplace=True)"
   ]
  },
  {
   "cell_type": "markdown",
   "id": "83364de4",
   "metadata": {},
   "source": [
    "#### 8) \"brands\" :"
   ]
  },
  {
   "cell_type": "raw",
   "id": "a7f1b44e",
   "metadata": {},
   "source": [
    "Beaucoup d'erreurs de formatage, voire d'erreur dans les noms de marque (Sainsbury, Sainsbury's ou Sinsbury\"s ; Jacks Daniel's ou Jack Daniels...). Il serait long de corriger cette variable (16521 valeurs uniques) et surtout, peu utile. Son intérêt est donc davantage dans l'information complémentaire que dans le traitement de données."
   ]
  },
  {
   "cell_type": "code",
   "execution_count": null,
   "id": "41ff84f3",
   "metadata": {},
   "outputs": [],
   "source": [
    "# Changement du nom de la variable :\n",
    "data_fr_clean.rename(columns={\"brands\":\"marque\"}, inplace=True)"
   ]
  },
  {
   "cell_type": "markdown",
   "id": "f87934d0",
   "metadata": {},
   "source": [
    "#### 9) \"categories\" :"
   ]
  },
  {
   "cell_type": "raw",
   "id": "37e33017",
   "metadata": {},
   "source": [
    "Certainement des erreurs de formatage au sein de cette variable qui compte 24769 valeurs uniques. Son intérêt est donc davantage dans l'information complémentaire que dans le traitement de données."
   ]
  },
  {
   "cell_type": "code",
   "execution_count": null,
   "id": "4e346ebb",
   "metadata": {},
   "outputs": [],
   "source": [
    "# Changement du nom de la variable :\n",
    "data_fr_clean.rename(columns={\"categories\":\"categorie_produits\"}, inplace=True)"
   ]
  },
  {
   "cell_type": "markdown",
   "id": "e8637a89",
   "metadata": {},
   "source": [
    "#### 10) \"countries_fr\" :"
   ]
  },
  {
   "cell_type": "raw",
   "id": "7d6c1482",
   "metadata": {},
   "source": [
    "Cette variable indique les pays dans lesquels le produit est vendu. On remarque quelques erreurs de formatage généralement dues aux langues utilisées. Il serait long de corriger cette variable et surtout, peu utile. Son intérêt est donc davantage dans l'information complémentaire que dans le traitement de données."
   ]
  },
  {
   "cell_type": "code",
   "execution_count": null,
   "id": "70cd9c35",
   "metadata": {},
   "outputs": [],
   "source": [
    "# Changement du nom de la variable :\n",
    "data_fr_clean.rename(columns={\"countries_fr\":\"dispo_pays\"}, inplace=True)"
   ]
  },
  {
   "cell_type": "markdown",
   "id": "21a590f0",
   "metadata": {},
   "source": [
    "#### 11) \"ingredients\" :"
   ]
  },
  {
   "cell_type": "raw",
   "id": "d7f87289",
   "metadata": {},
   "source": [
    "Cette variable liste les ingrédients des produits. A priori, pas de problèmes."
   ]
  },
  {
   "cell_type": "code",
   "execution_count": null,
   "id": "cc7016a2",
   "metadata": {},
   "outputs": [],
   "source": [
    "# Changement du nom de la variable :\n",
    "data_fr_clean.rename(columns={\"ingredients\":\"ingredients\"}, inplace=True)"
   ]
  },
  {
   "cell_type": "markdown",
   "id": "0e9b9a08",
   "metadata": {},
   "source": [
    "#### 12) \"additives\""
   ]
  },
  {
   "cell_type": "raw",
   "id": "88c3f05c",
   "metadata": {},
   "source": [
    "Des problèmes de formatage dans cette variable qui liste les additifs."
   ]
  },
  {
   "cell_type": "code",
   "execution_count": null,
   "id": "cd83dbd3",
   "metadata": {},
   "outputs": [],
   "source": [
    "# Changement du nom de la variable :\n",
    "data_fr_clean.rename(columns={\"additives\":\"additifs\"}, inplace=True)"
   ]
  },
  {
   "cell_type": "markdown",
   "id": "4c58ecf8",
   "metadata": {},
   "source": [
    "#### 13) \"ingredients_from_palm_oil_n\" :"
   ]
  },
  {
   "cell_type": "raw",
   "id": "6246abef",
   "metadata": {},
   "source": [
    "Cette variable qui ne contient que 4 valeurs différentes (1,2,3,4 et NaN) ne peut être transformée en \"integer\" si l'on souhaite conserver les NaN."
   ]
  },
  {
   "cell_type": "code",
   "execution_count": null,
   "id": "1359125a",
   "metadata": {},
   "outputs": [],
   "source": [
    "# Changement du nom de la variable :\n",
    "data_fr_clean.rename(columns={\"ingredients_from_palm_oil_n\":\"ingredients_huile_palme\"}, inplace=True)"
   ]
  },
  {
   "cell_type": "markdown",
   "id": "71a3361b",
   "metadata": {},
   "source": [
    "#### 14) \"ingredients_that_may_be_from_palm_oil_n\" :"
   ]
  },
  {
   "cell_type": "raw",
   "id": "89bc69c1",
   "metadata": {},
   "source": [
    "Même constat que la variable précédente."
   ]
  },
  {
   "cell_type": "code",
   "execution_count": null,
   "id": "d72b081a",
   "metadata": {},
   "outputs": [],
   "source": [
    "# Changement du nom de la variable :\n",
    "data_fr_clean.rename(columns={\"ingredients_that_may_be_from_palm_oil_n\":\"ingredients_huile_palme_possible\"}, inplace=True)"
   ]
  },
  {
   "cell_type": "markdown",
   "id": "91c7e67f",
   "metadata": {},
   "source": [
    "#### 15) nutrition_grade_fr :"
   ]
  },
  {
   "cell_type": "raw",
   "id": "ec08a080",
   "metadata": {},
   "source": [
    "Le score de nutrition est bien indiqué sans valeurs aberrantes :"
   ]
  },
  {
   "cell_type": "code",
   "execution_count": null,
   "id": "4fafb5e8",
   "metadata": {},
   "outputs": [],
   "source": [
    "# Changement du nom de la variable :\n",
    "data_fr_clean.rename(columns={\"nutrition_grade_fr\":\"nutriscore\"}, inplace=True)"
   ]
  },
  {
   "cell_type": "markdown",
   "id": "f0dc9b46",
   "metadata": {},
   "source": [
    "#### 16) \"pnns_groups_1\" :"
   ]
  },
  {
   "cell_type": "raw",
   "id": "788245d6",
   "metadata": {},
   "source": [
    "Il faut remplacer la valeur \"unknown\" par \"Nan\"."
   ]
  },
  {
   "cell_type": "code",
   "execution_count": null,
   "id": "2cf7ccba",
   "metadata": {},
   "outputs": [],
   "source": [
    "# Remplacement de \"unknown\" par \"NaN\" :\n",
    "data_fr_clean[\"pnns_groups_1\"] = data_fr_clean[\"pnns_groups_1\"].replace(\"unknown\", np.NaN)"
   ]
  },
  {
   "cell_type": "code",
   "execution_count": null,
   "id": "cece0d23",
   "metadata": {},
   "outputs": [],
   "source": [
    "# Traitement des erreurs de formatage :\n",
    "data_fr_clean[\"pnns_groups_1\"].replace([\"fruits-and-vegetables\",\"sugary-snacks\",\"cereals-and-potatoes\"],[\"Fruits and vegetables\",\"Sugary snacks\",\"Cereals and potatoes\"],inplace=True)"
   ]
  },
  {
   "cell_type": "code",
   "execution_count": null,
   "id": "4753f069",
   "metadata": {},
   "outputs": [],
   "source": [
    "# Changement du nom de la variable :\n",
    "data_fr_clean.rename(columns={\"pnns_groups_1\":\"groupes_produits_1\"}, inplace=True)"
   ]
  },
  {
   "cell_type": "markdown",
   "id": "ba4d156f",
   "metadata": {},
   "source": [
    "#### 17) \"pnns_groups_2\" :"
   ]
  },
  {
   "cell_type": "raw",
   "id": "73f89bbd",
   "metadata": {},
   "source": [
    "Même chose que précédemment."
   ]
  },
  {
   "cell_type": "code",
   "execution_count": null,
   "id": "ed99b2f7",
   "metadata": {},
   "outputs": [],
   "source": [
    "# Remplacement de \"unknown\" par \"NaN\" :\n",
    "data_fr_clean[\"pnns_groups_2\"] = data_fr_clean[\"pnns_groups_2\"].replace(\"unknown\", np.NaN)"
   ]
  },
  {
   "cell_type": "code",
   "execution_count": null,
   "id": "e80ab80e",
   "metadata": {},
   "outputs": [],
   "source": [
    "# Changement du nom de la variable :\n",
    "data_fr_clean.rename(columns={\"pnns_groups_2\":\"groupes_produits_2\"}, inplace=True)"
   ]
  },
  {
   "cell_type": "markdown",
   "id": "10d6629e",
   "metadata": {},
   "source": [
    "#### 18) \"states_fr\" :"
   ]
  },
  {
   "cell_type": "raw",
   "id": "7f916516",
   "metadata": {},
   "source": [
    "Beaucoup d'erreurs de formatage. Il serait long de corriger cette variable, et surtout, peu utile. Son intérêt est donc davantage dans l'information complémentaire que dans le traitement de ses données."
   ]
  },
  {
   "cell_type": "code",
   "execution_count": null,
   "id": "ee7adaa6",
   "metadata": {},
   "outputs": [],
   "source": [
    "# Changement du nom de la variable :\n",
    "data_fr_clean.rename(columns={\"states_fr\":\"etat_du_renseignement\"}, inplace=True)"
   ]
  },
  {
   "cell_type": "markdown",
   "id": "75f45b51",
   "metadata": {},
   "source": [
    "#### 19) \"main_category_fr\" :"
   ]
  },
  {
   "cell_type": "raw",
   "id": "745b0468",
   "metadata": {},
   "source": [
    "Beaucoup d'erreurs de formatage. Il serait long de corriger cette variable, et surtout, peu utile. Son intérêt est donc davantage dans l'information complémentaire que dans le traitement de ses données."
   ]
  },
  {
   "cell_type": "code",
   "execution_count": null,
   "id": "c3fd83ac",
   "metadata": {},
   "outputs": [],
   "source": [
    "# Changement du nom de la variable :\n",
    "data_fr_clean.rename(columns={\"main_category_fr\":\"type_produits\"}, inplace=True)"
   ]
  },
  {
   "cell_type": "markdown",
   "id": "9c92e9af",
   "metadata": {},
   "source": [
    "#### 20) \"image_url\" :"
   ]
  },
  {
   "cell_type": "raw",
   "id": "e6170b68",
   "metadata": {},
   "source": [
    "Cette variable est une adresse url qui mène à une image du produit. Peut être utile pour une application qui vise à scanner directement le produit ou, plus simplement pour accompagner le résultat. A priori, pas de problèmes au sein de cette variable, mais il est difficile d'en être certain à 100% sauf à cliquer sur chacune des adresses !!!"
   ]
  },
  {
   "cell_type": "code",
   "execution_count": null,
   "id": "14ef13b7",
   "metadata": {},
   "outputs": [],
   "source": [
    "# Changement du nom de la variable :\n",
    "data_fr_clean.rename(columns={\"image_url\":\"url_image\"}, inplace=True)"
   ]
  },
  {
   "cell_type": "markdown",
   "id": "9b47b962",
   "metadata": {},
   "source": [
    "#### 21) \"image_small_url\" :"
   ]
  },
  {
   "cell_type": "raw",
   "id": "068e0df0",
   "metadata": {},
   "source": [
    "Identique à la variable précédente mais l'adresse mène à une image dont la définition est plus faible. À voir l'utilité de conserver les deux."
   ]
  },
  {
   "cell_type": "code",
   "execution_count": null,
   "id": "708ed9a3",
   "metadata": {},
   "outputs": [],
   "source": [
    "# Changement du nom de la variable :\n",
    "data_fr_clean.rename(columns={\"image_small_url\":\"url_image_miniature\"}, inplace=True)"
   ]
  },
  {
   "cell_type": "markdown",
   "id": "2cc58960",
   "metadata": {},
   "source": [
    "#### 22) \"energy_100g\" :"
   ]
  },
  {
   "cell_type": "code",
   "execution_count": null,
   "id": "2fcdd9dc",
   "metadata": {},
   "outputs": [],
   "source": [
    "# Visualisation de la distribution\n",
    "plt.figure()\n",
    "sns.boxplot(data_fr_clean[\"energy_100g\"])\n",
    "plt.xscale(\"log\")\n",
    "plt.show"
   ]
  },
  {
   "cell_type": "raw",
   "id": "991e49cb",
   "metadata": {},
   "source": [
    "Les valeurs à 0 correspondent effectivement à des produits sans calories (thé, eau minérale, sel, édulcorants...). En revanche, des valeurs manifestement aberrantes ont été repérées. Cependant, sans connaître de façon certaine les valeurs normales des aliments, il est difficile de tracer une ligne de séparation. C'est pourquoi le score Z sera utilisé avec pour limite 3 écarts types (valeur généralement admise pour les valeurs aberrantes). "
   ]
  },
  {
   "cell_type": "code",
   "execution_count": null,
   "id": "ec4ebe25",
   "metadata": {},
   "outputs": [],
   "source": [
    "# Calcul du score Z :\n",
    "z = np.abs(stats.zscore(data_fr_clean[\"energy_100g\"], nan_policy=\"omit\"))"
   ]
  },
  {
   "cell_type": "code",
   "execution_count": null,
   "id": "4ab708e0",
   "metadata": {},
   "outputs": [],
   "source": [
    "# Suppression des valeurs aberrantes :\n",
    "data_fr_clean[\"energy_100g\"] = data_fr_clean[\"energy_100g\"][z < 3]\n",
    "del(z)"
   ]
  },
  {
   "cell_type": "code",
   "execution_count": null,
   "id": "ffb2f2cb",
   "metadata": {},
   "outputs": [],
   "source": [
    "# Changement du nom de la variable :\n",
    "data_fr_clean.rename(columns={\"energy_100g\":\"energie_100g\"}, inplace=True)"
   ]
  },
  {
   "cell_type": "markdown",
   "id": "a7ff3db8",
   "metadata": {},
   "source": [
    "#### 23) \"fat_100g\" :"
   ]
  },
  {
   "cell_type": "code",
   "execution_count": null,
   "id": "05cb6989",
   "metadata": {},
   "outputs": [],
   "source": [
    "# Visualisation de la distribution\n",
    "plt.figure()\n",
    "sns.boxplot(data_fr_clean[\"fat_100g\"])\n",
    "plt.show"
   ]
  },
  {
   "cell_type": "code",
   "execution_count": null,
   "id": "8af7be9d",
   "metadata": {
    "scrolled": true
   },
   "outputs": [],
   "source": [
    "# Identification et suppression des valeurs aberrantes :\n",
    "data_fr_clean.sort_values(by=\"fat_100g\",ascending=False)\n",
    "data_fr_clean[\"fat_100g\"] = data_fr_clean[\"fat_100g\"][data_fr_clean[\"fat_100g\"]<=100]"
   ]
  },
  {
   "cell_type": "code",
   "execution_count": null,
   "id": "3c4e37b5",
   "metadata": {},
   "outputs": [],
   "source": [
    "# Changement du nom de la variable :\n",
    "data_fr_clean.rename(columns={\"fat_100g\":\"graisse_100g\"}, inplace=True)"
   ]
  },
  {
   "cell_type": "markdown",
   "id": "5ea0531f",
   "metadata": {},
   "source": [
    "#### 24) \"saturated-fat_100g\""
   ]
  },
  {
   "cell_type": "code",
   "execution_count": null,
   "id": "c6e3e257",
   "metadata": {},
   "outputs": [],
   "source": [
    "# Visualisation de la distribution\n",
    "plt.figure()\n",
    "sns.boxplot(data_fr_clean[\"saturated-fat_100g\"])\n",
    "plt.show"
   ]
  },
  {
   "cell_type": "code",
   "execution_count": null,
   "id": "36cc5580",
   "metadata": {},
   "outputs": [],
   "source": [
    "# Identification et suppression des valeurs aberrantes :\n",
    "data_fr_clean.sort_values(by=\"saturated-fat_100g\",ascending=False)\n",
    "data_fr_clean[\"saturated-fat_100g\"] = data_fr_clean[\"saturated-fat_100g\"][data_fr_clean[\"saturated-fat_100g\"]<=100]"
   ]
  },
  {
   "cell_type": "code",
   "execution_count": null,
   "id": "c7c77de5",
   "metadata": {},
   "outputs": [],
   "source": [
    "# Changement du nom de la variable :\n",
    "data_fr_clean.rename(columns={\"saturated-fat_100g\":\"graisse_saturee_100g\"}, inplace=True)"
   ]
  },
  {
   "cell_type": "markdown",
   "id": "4e520da3",
   "metadata": {},
   "source": [
    "#### 25) \"carbohydrates_100g\" :"
   ]
  },
  {
   "cell_type": "code",
   "execution_count": null,
   "id": "4328bd80",
   "metadata": {},
   "outputs": [],
   "source": [
    "# Visualisation de la distribution\n",
    "plt.figure()\n",
    "sns.boxplot(data_fr_clean[\"carbohydrates_100g\"])\n",
    "plt.show"
   ]
  },
  {
   "cell_type": "code",
   "execution_count": null,
   "id": "41446f28",
   "metadata": {},
   "outputs": [],
   "source": [
    "# Identification et suppression des valeurs aberrantes :\n",
    "data_fr_clean.sort_values(by=\"carbohydrates_100g\",ascending=False)\n",
    "data_fr_clean[\"carbohydrates_100g\"] = data_fr_clean[\"carbohydrates_100g\"][data_fr_clean[\"carbohydrates_100g\"]<=100]"
   ]
  },
  {
   "cell_type": "code",
   "execution_count": null,
   "id": "a987124f",
   "metadata": {},
   "outputs": [],
   "source": [
    "# Changement du nom de la variable :\n",
    "data_fr_clean.rename(columns={\"carbohydrates_100g\":\"glucides_100g\"}, inplace=True)"
   ]
  },
  {
   "cell_type": "markdown",
   "id": "15ce1936",
   "metadata": {},
   "source": [
    "#### 26) \"sugars_100g\" :"
   ]
  },
  {
   "cell_type": "code",
   "execution_count": null,
   "id": "e5cf04dd",
   "metadata": {},
   "outputs": [],
   "source": [
    "# Visualisation de la distribution\n",
    "plt.figure()\n",
    "sns.boxplot(data_fr_clean[\"sugars_100g\"])\n",
    "plt.show"
   ]
  },
  {
   "cell_type": "code",
   "execution_count": null,
   "id": "300c9ebb",
   "metadata": {},
   "outputs": [],
   "source": [
    "# Identification et suppression des valeurs aberrantes :\n",
    "data_fr_clean.sort_values(by=\"sugars_100g\",ascending=False)\n",
    "data_fr_clean[\"sugars_100g\"] = data_fr_clean[\"sugars_100g\"][data_fr_clean[\"sugars_100g\"]<=100]"
   ]
  },
  {
   "cell_type": "code",
   "execution_count": null,
   "id": "251c0b20",
   "metadata": {},
   "outputs": [],
   "source": [
    "# Changement du nom de la variable :\n",
    "data_fr_clean.rename(columns={\"sugars_100g\":\"sucres_100g\"}, inplace=True)"
   ]
  },
  {
   "cell_type": "markdown",
   "id": "a4c68142",
   "metadata": {},
   "source": [
    "#### 27) \"fiber_100g\" :"
   ]
  },
  {
   "cell_type": "code",
   "execution_count": null,
   "id": "a0e86bdd",
   "metadata": {},
   "outputs": [],
   "source": [
    "# Visualisation de la distribution\n",
    "plt.figure()\n",
    "sns.boxplot(data_fr_clean[\"fiber_100g\"])\n",
    "plt.show"
   ]
  },
  {
   "cell_type": "code",
   "execution_count": null,
   "id": "c9294cc7",
   "metadata": {},
   "outputs": [],
   "source": [
    "# Identification et suppression des valeurs aberrantes :\n",
    "data_fr_clean.sort_values(by=\"fiber_100g\",ascending=False)\n",
    "data_fr_clean[\"fiber_100g\"] = data_fr_clean[\"fiber_100g\"][data_fr_clean[\"fiber_100g\"]<=100]"
   ]
  },
  {
   "cell_type": "code",
   "execution_count": null,
   "id": "01f80d6d",
   "metadata": {},
   "outputs": [],
   "source": [
    "# Changement du nom de la variable :\n",
    "data_fr_clean.rename(columns={\"fiber_100g\":\"fibres_100g\"}, inplace=True)"
   ]
  },
  {
   "cell_type": "markdown",
   "id": "d4a2a214",
   "metadata": {},
   "source": [
    "#### 28) \"proteins_100g\" :"
   ]
  },
  {
   "cell_type": "code",
   "execution_count": null,
   "id": "55c34940",
   "metadata": {},
   "outputs": [],
   "source": [
    "# Visualisation de la distribution\n",
    "plt.figure()\n",
    "sns.boxplot(data_fr_clean[\"proteins_100g\"])\n",
    "plt.show"
   ]
  },
  {
   "cell_type": "code",
   "execution_count": null,
   "id": "27eb761c",
   "metadata": {},
   "outputs": [],
   "source": [
    "# Changement du nom de la variable :\n",
    "data_fr_clean.rename(columns={\"proteins_100g\":\"proteines_100g\"}, inplace=True)"
   ]
  },
  {
   "cell_type": "markdown",
   "id": "d265e10d",
   "metadata": {},
   "source": [
    "#### 29) \"salt_100g\" :"
   ]
  },
  {
   "cell_type": "code",
   "execution_count": null,
   "id": "0b3807cd",
   "metadata": {},
   "outputs": [],
   "source": [
    "# Visualisation de la distribution\n",
    "plt.figure()\n",
    "sns.boxplot(data_fr_clean[\"salt_100g\"])\n",
    "plt.show"
   ]
  },
  {
   "cell_type": "raw",
   "id": "ebfc0bbe",
   "metadata": {},
   "source": [
    "Il y a ici, deux valeurs aberrantes qui dépassent en sel le poids du produit. Le premier sera supprimé. Le deuxième (sel de Guérande), en revanche, était un problème de conversion (125 grammes de sel pour un pot de 125g). Il suffit donc de l'adapter à 100g."
   ]
  },
  {
   "cell_type": "code",
   "execution_count": null,
   "id": "df656579",
   "metadata": {},
   "outputs": [],
   "source": [
    "# Identification et suppression des valeurs aberrantes :\n",
    "data_fr_clean.sort_values(by=\"salt_100g\",ascending=False)\n",
    "data_fr_clean[\"salt_100g\"] = data_fr_clean[\"salt_100g\"][data_fr_clean[\"salt_100g\"]<125]\n",
    "data_fr_clean[\"salt_100g\"] = data_fr_clean[\"salt_100g\"].replace(125,100)"
   ]
  },
  {
   "cell_type": "code",
   "execution_count": null,
   "id": "4b5919ef",
   "metadata": {},
   "outputs": [],
   "source": [
    "# Changement du nom de la variable :\n",
    "data_fr_clean.rename(columns={\"salt_100g\":\"sel_100g\"}, inplace=True)"
   ]
  },
  {
   "cell_type": "markdown",
   "id": "e5b7415a",
   "metadata": {},
   "source": [
    "#### 30) \"sodium_100g\""
   ]
  },
  {
   "cell_type": "code",
   "execution_count": null,
   "id": "fdee08af",
   "metadata": {},
   "outputs": [],
   "source": [
    "# Visualisation de la distribution\n",
    "plt.figure()\n",
    "sns.boxplot(data_fr_clean[\"sodium_100g\"])\n",
    "plt.show"
   ]
  },
  {
   "cell_type": "code",
   "execution_count": null,
   "id": "c1ad9989",
   "metadata": {},
   "outputs": [],
   "source": [
    "# Identification et suppression des valeurs aberrantes :\n",
    "data_fr_clean.sort_values(by=\"sodium_100g\",ascending=False)\n",
    "data_fr_clean[\"sodium_100g\"] = data_fr_clean[\"sodium_100g\"][data_fr_clean[\"sodium_100g\"]<=50]"
   ]
  },
  {
   "cell_type": "code",
   "execution_count": null,
   "id": "e1edb976",
   "metadata": {},
   "outputs": [],
   "source": [
    "# Changement du nom de la variable :\n",
    "data_fr_clean.rename(columns={\"sodium_100g\":\"sodium_100g\"}, inplace=True)"
   ]
  },
  {
   "cell_type": "markdown",
   "id": "8627d614",
   "metadata": {},
   "source": [
    "#### 31) \"nutrition-score-fr_100g\""
   ]
  },
  {
   "cell_type": "raw",
   "id": "b737e360",
   "metadata": {},
   "source": [
    "Il s'agit du nutriscore tel qu'il est calculé dans le Royaume-Uni. Je ne sais s'il est possible d'obtenir 0, sur cette échelle. En revanche, on note la présence de valeurs négatives qu'il faut supprimer."
   ]
  },
  {
   "cell_type": "code",
   "execution_count": null,
   "id": "868581ac",
   "metadata": {},
   "outputs": [],
   "source": [
    "# Suppression des valeurs négatives :\n",
    "data_fr_clean[\"nutrition-score-fr_100g\"] = np.abs(data_fr_clean[\"nutrition-score-fr_100g\"])"
   ]
  },
  {
   "cell_type": "code",
   "execution_count": null,
   "id": "4986c505",
   "metadata": {},
   "outputs": [],
   "source": [
    "# Changement du nom de la variable :\n",
    "data_fr_clean.rename(columns={\"nutrition-score-fr_100g\":\"indice_nutrition_uk_100g\"}, inplace=True)"
   ]
  },
  {
   "cell_type": "markdown",
   "id": "412cf16b",
   "metadata": {},
   "source": [
    "### F - Aperçu final et export :"
   ]
  },
  {
   "cell_type": "markdown",
   "id": "948addab",
   "metadata": {},
   "source": [
    "#### 1) Aperçu final :"
   ]
  },
  {
   "cell_type": "code",
   "execution_count": null,
   "id": "fd135289",
   "metadata": {},
   "outputs": [],
   "source": [
    "# Aperçu du volume d'informations manquantes sur le jeu de données final :\n",
    "plt.figure(figsize=(20,10))\n",
    "sns.heatmap(data_fr_clean.isna(),cbar=False, cmap=\"coolwarm\", center=0.25)"
   ]
  },
  {
   "cell_type": "code",
   "execution_count": null,
   "id": "50a31a7d",
   "metadata": {},
   "outputs": [],
   "source": [
    "# Pourcentage de valeurs manquantes :\n",
    "data_fr_clean.isna().sum().sum()/data_fr_clean.count().sum()"
   ]
  },
  {
   "cell_type": "code",
   "execution_count": null,
   "id": "f5f8ec3c",
   "metadata": {},
   "outputs": [],
   "source": [
    "# Aperçu du tableau :\n",
    "data_fr_clean.head()"
   ]
  },
  {
   "cell_type": "code",
   "execution_count": null,
   "id": "5966fc49",
   "metadata": {},
   "outputs": [],
   "source": [
    "# Liste des variables :\n",
    "data_fr_clean.columns"
   ]
  },
  {
   "cell_type": "code",
   "execution_count": null,
   "id": "a6639db7",
   "metadata": {},
   "outputs": [],
   "source": [
    "# Informations tableau :\n",
    "data_fr_clean.describe()"
   ]
  },
  {
   "cell_type": "markdown",
   "id": "63ee1220",
   "metadata": {},
   "source": [
    "#### 2) Export :"
   ]
  },
  {
   "cell_type": "code",
   "execution_count": null,
   "id": "596b6dcc",
   "metadata": {},
   "outputs": [],
   "source": [
    "# Export :\n",
    "data_fr_clean.to_csv(\"data_fr_clean.csv\", index = False)"
   ]
  }
 ],
 "metadata": {
  "kernelspec": {
   "display_name": "Python 3 (ipykernel)",
   "language": "python",
   "name": "python3"
  },
  "language_info": {
   "codemirror_mode": {
    "name": "ipython",
    "version": 3
   },
   "file_extension": ".py",
   "mimetype": "text/x-python",
   "name": "python",
   "nbconvert_exporter": "python",
   "pygments_lexer": "ipython3",
   "version": "3.8.12"
  }
 },
 "nbformat": 4,
 "nbformat_minor": 5
}
